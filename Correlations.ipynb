{
 "cells": [
  {
   "cell_type": "code",
   "execution_count": 24,
   "metadata": {},
   "outputs": [],
   "source": [
    " import pandas as pd "
   ]
  },
  {
   "cell_type": "code",
   "execution_count": 25,
   "metadata": {},
   "outputs": [
    {
     "data": {
      "text/html": [
       "<div>\n",
       "<style scoped>\n",
       "    .dataframe tbody tr th:only-of-type {\n",
       "        vertical-align: middle;\n",
       "    }\n",
       "\n",
       "    .dataframe tbody tr th {\n",
       "        vertical-align: top;\n",
       "    }\n",
       "\n",
       "    .dataframe thead th {\n",
       "        text-align: right;\n",
       "    }\n",
       "</style>\n",
       "<table border=\"1\" class=\"dataframe\">\n",
       "  <thead>\n",
       "    <tr style=\"text-align: right;\">\n",
       "      <th></th>\n",
       "      <th>OPEID</th>\n",
       "      <th>School Name</th>\n",
       "      <th>Risk Factor</th>\n",
       "      <th>Borrowing Risk</th>\n",
       "      <th>ELIGIND</th>\n",
       "      <th>CERTCD</th>\n",
       "      <th>T &amp; C</th>\n",
       "      <th>Ethnic Class</th>\n",
       "      <th>% Completions Any School</th>\n",
       "      <th>% Completions Same School</th>\n",
       "      <th>...</th>\n",
       "      <th>% Deferment or Forbearance More than 2 Months 2013-2014</th>\n",
       "      <th>% Deferment or Forbearance More than 2 Months 2012-2013</th>\n",
       "      <th>% Deferment or Forbearance More than 2 Months 2011-2012</th>\n",
       "      <th>% Deferment or Forbearance More than 2 Months 2010-2011</th>\n",
       "      <th>% Deferment or Forbearance More than 2 Months 2009-2010</th>\n",
       "      <th>Overall Borrowers with More than $1 Paid 2013-2014</th>\n",
       "      <th>Overall Median Borrower's Volume Repayment % 2013-2014</th>\n",
       "      <th>Overall Mean Borrower's Volume Repayment % 2013-2014</th>\n",
       "      <th>Overall Dollars Under 14% 2013-2014</th>\n",
       "      <th>Overall Dollars Under 21% 2013-2014</th>\n",
       "    </tr>\n",
       "  </thead>\n",
       "  <tbody>\n",
       "    <tr>\n",
       "      <th>0</th>\n",
       "      <td>100200</td>\n",
       "      <td>ALABAMA AGRICULTURAL &amp; MECHANICAL UNIVERSITY</td>\n",
       "      <td>0.4375</td>\n",
       "      <td>Less Risk</td>\n",
       "      <td>Y</td>\n",
       "      <td>C</td>\n",
       "      <td>Public 4 Yrs or More</td>\n",
       "      <td>2.0</td>\n",
       "      <td>0.44</td>\n",
       "      <td>0.39</td>\n",
       "      <td>...</td>\n",
       "      <td>0.09</td>\n",
       "      <td>0.09</td>\n",
       "      <td>0.09</td>\n",
       "      <td>0.10</td>\n",
       "      <td>0.11</td>\n",
       "      <td>540.0</td>\n",
       "      <td>-0.05</td>\n",
       "      <td>0.04</td>\n",
       "      <td>5852351.64</td>\n",
       "      <td>7415436.40</td>\n",
       "    </tr>\n",
       "    <tr>\n",
       "      <th>1</th>\n",
       "      <td>100300</td>\n",
       "      <td>FAULKNER UNIVERSITY</td>\n",
       "      <td>0.5625</td>\n",
       "      <td>Moderate Risk</td>\n",
       "      <td>Y</td>\n",
       "      <td>C</td>\n",
       "      <td>PNP 4 Yrs or More</td>\n",
       "      <td>5.0</td>\n",
       "      <td>0.17</td>\n",
       "      <td>0.00</td>\n",
       "      <td>...</td>\n",
       "      <td>0.06</td>\n",
       "      <td>0.08</td>\n",
       "      <td>0.10</td>\n",
       "      <td>0.10</td>\n",
       "      <td>0.12</td>\n",
       "      <td>660.0</td>\n",
       "      <td>-0.01</td>\n",
       "      <td>0.12</td>\n",
       "      <td>4029830.31</td>\n",
       "      <td>5018043.47</td>\n",
       "    </tr>\n",
       "    <tr>\n",
       "      <th>2</th>\n",
       "      <td>100400</td>\n",
       "      <td>UNIVERSITY OF MONTEVALLO</td>\n",
       "      <td>0.6875</td>\n",
       "      <td>Most Risk</td>\n",
       "      <td>Y</td>\n",
       "      <td>C</td>\n",
       "      <td>Public 4 Yrs or More</td>\n",
       "      <td>5.0</td>\n",
       "      <td>0.57</td>\n",
       "      <td>0.48</td>\n",
       "      <td>...</td>\n",
       "      <td>0.04</td>\n",
       "      <td>0.06</td>\n",
       "      <td>0.07</td>\n",
       "      <td>0.08</td>\n",
       "      <td>0.08</td>\n",
       "      <td>388.0</td>\n",
       "      <td>0.14</td>\n",
       "      <td>0.27</td>\n",
       "      <td>856201.23</td>\n",
       "      <td>1157025.38</td>\n",
       "    </tr>\n",
       "    <tr>\n",
       "      <th>3</th>\n",
       "      <td>100500</td>\n",
       "      <td>ALABAMA STATE UNIVERSITY</td>\n",
       "      <td>0.5000</td>\n",
       "      <td>Less Risk</td>\n",
       "      <td>Y</td>\n",
       "      <td>P</td>\n",
       "      <td>Public 4 Yrs or More</td>\n",
       "      <td>2.0</td>\n",
       "      <td>0.29</td>\n",
       "      <td>0.22</td>\n",
       "      <td>...</td>\n",
       "      <td>0.08</td>\n",
       "      <td>0.09</td>\n",
       "      <td>0.08</td>\n",
       "      <td>0.08</td>\n",
       "      <td>0.10</td>\n",
       "      <td>710.0</td>\n",
       "      <td>-0.07</td>\n",
       "      <td>0.02</td>\n",
       "      <td>7593514.81</td>\n",
       "      <td>9565619.02</td>\n",
       "    </tr>\n",
       "    <tr>\n",
       "      <th>4</th>\n",
       "      <td>100700</td>\n",
       "      <td>CENTRAL ALABAMA COMMUNITY COLLEGE</td>\n",
       "      <td>0.5625</td>\n",
       "      <td>Moderate Risk</td>\n",
       "      <td>Y</td>\n",
       "      <td>P</td>\n",
       "      <td>Public 2 - 3 Yrs</td>\n",
       "      <td>5.0</td>\n",
       "      <td>0.18</td>\n",
       "      <td>0.11</td>\n",
       "      <td>...</td>\n",
       "      <td>0.05</td>\n",
       "      <td>0.08</td>\n",
       "      <td>0.09</td>\n",
       "      <td>0.09</td>\n",
       "      <td>0.12</td>\n",
       "      <td>242.0</td>\n",
       "      <td>0.00</td>\n",
       "      <td>0.14</td>\n",
       "      <td>517390.57</td>\n",
       "      <td>666555.23</td>\n",
       "    </tr>\n",
       "  </tbody>\n",
       "</table>\n",
       "<p>5 rows × 74 columns</p>\n",
       "</div>"
      ],
      "text/plain": [
       "    OPEID                                   School Name  Risk Factor  \\\n",
       "0  100200  ALABAMA AGRICULTURAL & MECHANICAL UNIVERSITY       0.4375   \n",
       "1  100300                           FAULKNER UNIVERSITY       0.5625   \n",
       "2  100400                      UNIVERSITY OF MONTEVALLO       0.6875   \n",
       "3  100500                      ALABAMA STATE UNIVERSITY       0.5000   \n",
       "4  100700             CENTRAL ALABAMA COMMUNITY COLLEGE       0.5625   \n",
       "\n",
       "  Borrowing Risk ELIGIND CERTCD                 T & C  Ethnic Class  \\\n",
       "0      Less Risk       Y      C  Public 4 Yrs or More           2.0   \n",
       "1  Moderate Risk       Y      C     PNP 4 Yrs or More           5.0   \n",
       "2      Most Risk       Y      C  Public 4 Yrs or More           5.0   \n",
       "3      Less Risk       Y      P  Public 4 Yrs or More           2.0   \n",
       "4  Moderate Risk       Y      P      Public 2 - 3 Yrs           5.0   \n",
       "\n",
       "   % Completions Any School  % Completions Same School  \\\n",
       "0                      0.44                       0.39   \n",
       "1                      0.17                       0.00   \n",
       "2                      0.57                       0.48   \n",
       "3                      0.29                       0.22   \n",
       "4                      0.18                       0.11   \n",
       "\n",
       "                  ...                   \\\n",
       "0                 ...                    \n",
       "1                 ...                    \n",
       "2                 ...                    \n",
       "3                 ...                    \n",
       "4                 ...                    \n",
       "\n",
       "   % Deferment or Forbearance More than 2 Months 2013-2014  \\\n",
       "0                                               0.09         \n",
       "1                                               0.06         \n",
       "2                                               0.04         \n",
       "3                                               0.08         \n",
       "4                                               0.05         \n",
       "\n",
       "   % Deferment or Forbearance More than 2 Months 2012-2013  \\\n",
       "0                                               0.09         \n",
       "1                                               0.08         \n",
       "2                                               0.06         \n",
       "3                                               0.09         \n",
       "4                                               0.08         \n",
       "\n",
       "   % Deferment or Forbearance More than 2 Months 2011-2012  \\\n",
       "0                                               0.09         \n",
       "1                                               0.10         \n",
       "2                                               0.07         \n",
       "3                                               0.08         \n",
       "4                                               0.09         \n",
       "\n",
       "   % Deferment or Forbearance More than 2 Months 2010-2011  \\\n",
       "0                                               0.10         \n",
       "1                                               0.10         \n",
       "2                                               0.08         \n",
       "3                                               0.08         \n",
       "4                                               0.09         \n",
       "\n",
       "   % Deferment or Forbearance More than 2 Months 2009-2010  \\\n",
       "0                                               0.11         \n",
       "1                                               0.12         \n",
       "2                                               0.08         \n",
       "3                                               0.10         \n",
       "4                                               0.12         \n",
       "\n",
       "   Overall Borrowers with More than $1 Paid 2013-2014  \\\n",
       "0                                              540.0    \n",
       "1                                              660.0    \n",
       "2                                              388.0    \n",
       "3                                              710.0    \n",
       "4                                              242.0    \n",
       "\n",
       "   Overall Median Borrower's Volume Repayment % 2013-2014  \\\n",
       "0                                              -0.05        \n",
       "1                                              -0.01        \n",
       "2                                               0.14        \n",
       "3                                              -0.07        \n",
       "4                                               0.00        \n",
       "\n",
       "   Overall Mean Borrower's Volume Repayment % 2013-2014  \\\n",
       "0                                               0.04      \n",
       "1                                               0.12      \n",
       "2                                               0.27      \n",
       "3                                               0.02      \n",
       "4                                               0.14      \n",
       "\n",
       "   Overall Dollars Under 14% 2013-2014  Overall Dollars Under 21% 2013-2014  \n",
       "0                           5852351.64                           7415436.40  \n",
       "1                           4029830.31                           5018043.47  \n",
       "2                            856201.23                           1157025.38  \n",
       "3                           7593514.81                           9565619.02  \n",
       "4                            517390.57                            666555.23  \n",
       "\n",
       "[5 rows x 74 columns]"
      ]
     },
     "execution_count": 25,
     "metadata": {},
     "output_type": "execute_result"
    }
   ],
   "source": [
    "df = pd.read_csv(\"frb_01_overall.csv\")\n",
    "df.head()"
   ]
  },
  {
   "cell_type": "code",
   "execution_count": 26,
   "metadata": {},
   "outputs": [
    {
     "data": {
      "text/plain": [
       "0.043194880939187573"
      ]
     },
     "execution_count": 26,
     "metadata": {},
     "output_type": "execute_result"
    }
   ],
   "source": [
    "corr = df['Risk Factor'].corr(df['% Completions Any School'])\n",
    "corr"
   ]
  },
  {
   "cell_type": "code",
   "execution_count": 27,
   "metadata": {},
   "outputs": [
    {
     "data": {
      "text/plain": [
       "-0.0082669391234155114"
      ]
     },
     "execution_count": 27,
     "metadata": {},
     "output_type": "execute_result"
    }
   ],
   "source": [
    "corr = df['Risk Factor'].corr(df['% Completions Same School'])\n",
    "corr"
   ]
  },
  {
   "cell_type": "code",
   "execution_count": 28,
   "metadata": {},
   "outputs": [
    {
     "data": {
      "text/plain": [
       "-0.070638434126089084"
      ]
     },
     "execution_count": 28,
     "metadata": {},
     "output_type": "execute_result"
    }
   ],
   "source": [
    "corr = df['Risk Factor'].corr(df['% Independent Borrower Count'])\n",
    "corr"
   ]
  },
  {
   "cell_type": "code",
   "execution_count": 29,
   "metadata": {},
   "outputs": [
    {
     "data": {
      "text/plain": [
       "0.13832041024899033"
      ]
     },
     "execution_count": 29,
     "metadata": {},
     "output_type": "execute_result"
    }
   ],
   "source": [
    "corr = df['Risk Factor'].corr(df['% Dependent Borrower Count'])\n",
    "corr"
   ]
  },
  {
   "cell_type": "code",
   "execution_count": 30,
   "metadata": {},
   "outputs": [
    {
     "data": {
      "text/plain": [
       "0.11510725990459145"
      ]
     },
     "execution_count": 30,
     "metadata": {},
     "output_type": "execute_result"
    }
   ],
   "source": [
    "corr = df['Risk Factor'].corr(df['Median Independent Student AGI'])\n",
    "corr"
   ]
  },
  {
   "cell_type": "code",
   "execution_count": 31,
   "metadata": {},
   "outputs": [
    {
     "data": {
      "text/plain": [
       "-0.0071419842186600828"
      ]
     },
     "execution_count": 31,
     "metadata": {},
     "output_type": "execute_result"
    }
   ],
   "source": [
    "corr = df['Risk Factor'].corr(df['% Independent Borrowers with AGI < $30K'])\n",
    "corr"
   ]
  },
  {
   "cell_type": "code",
   "execution_count": 32,
   "metadata": {},
   "outputs": [
    {
     "data": {
      "text/plain": [
       "0.28709587915668405"
      ]
     },
     "execution_count": 32,
     "metadata": {},
     "output_type": "execute_result"
    }
   ],
   "source": [
    "corr = df['Risk Factor'].corr(df['Median Dependent Parent AGI'])\n",
    "corr"
   ]
  },
  {
   "cell_type": "code",
   "execution_count": 33,
   "metadata": {},
   "outputs": [
    {
     "data": {
      "text/plain": [
       "-0.22308001762321356"
      ]
     },
     "execution_count": 33,
     "metadata": {},
     "output_type": "execute_result"
    }
   ],
   "source": [
    "corr = df['Risk Factor'].corr(df['% Dependent Borrowers with AGI < $30K'])\n",
    "corr"
   ]
  },
  {
   "cell_type": "code",
   "execution_count": 34,
   "metadata": {},
   "outputs": [
    {
     "data": {
      "text/plain": [
       "-0.03559372285101562"
      ]
     },
     "execution_count": 34,
     "metadata": {},
     "output_type": "execute_result"
    }
   ],
   "source": [
    "corr = df['Risk Factor'].corr(df['% Borrowers with a Pell Grant'])\n",
    "corr"
   ]
  },
  {
   "cell_type": "code",
   "execution_count": 35,
   "metadata": {},
   "outputs": [
    {
     "data": {
      "text/plain": [
       "0.33233316026709875"
      ]
     },
     "execution_count": 35,
     "metadata": {},
     "output_type": "execute_result"
    }
   ],
   "source": [
    "corr = df['Risk Factor'].corr(df['% Borrowers without a Pell Grant'])\n",
    "corr"
   ]
  },
  {
   "cell_type": "code",
   "execution_count": 36,
   "metadata": {},
   "outputs": [
    {
     "data": {
      "text/plain": [
       "0.045937557243484382"
      ]
     },
     "execution_count": 36,
     "metadata": {},
     "output_type": "execute_result"
    }
   ],
   "source": [
    "corr = df['Risk Factor'].corr(df['Median Age of Dependent Borrowers at Maturity'])\n",
    "corr"
   ]
  },
  {
   "cell_type": "code",
   "execution_count": 37,
   "metadata": {},
   "outputs": [
    {
     "data": {
      "text/plain": [
       "-0.050158678671749016"
      ]
     },
     "execution_count": 37,
     "metadata": {},
     "output_type": "execute_result"
    }
   ],
   "source": [
    "corr = df['Risk Factor'].corr(df['Median Age of Independent Borrowers at Maturity'])\n",
    "corr"
   ]
  },
  {
   "cell_type": "code",
   "execution_count": 38,
   "metadata": {},
   "outputs": [
    {
     "data": {
      "text/plain": [
       "0.13117090499247552"
      ]
     },
     "execution_count": 38,
     "metadata": {},
     "output_type": "execute_result"
    }
   ],
   "source": [
    "corr = df['Risk Factor'].corr(df['Mean Balance'])\n",
    "corr"
   ]
  },
  {
   "cell_type": "code",
   "execution_count": 39,
   "metadata": {},
   "outputs": [
    {
     "data": {
      "text/plain": [
       "0.12116047982724225"
      ]
     },
     "execution_count": 39,
     "metadata": {},
     "output_type": "execute_result"
    }
   ],
   "source": [
    "corr = df['Risk Factor'].corr(df['Median Balance'])\n",
    "corr"
   ]
  }
 ],
 "metadata": {
  "kernelspec": {
   "display_name": "Python 2",
   "language": "python",
   "name": "python2"
  },
  "language_info": {
   "codemirror_mode": {
    "name": "ipython",
    "version": 2
   },
   "file_extension": ".py",
   "mimetype": "text/x-python",
   "name": "python",
   "nbconvert_exporter": "python",
   "pygments_lexer": "ipython2",
   "version": "2.7.14"
  }
 },
 "nbformat": 4,
 "nbformat_minor": 2
}
